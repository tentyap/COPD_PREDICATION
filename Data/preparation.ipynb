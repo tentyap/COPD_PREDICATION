{
 "cells": [
  {
   "cell_type": "markdown",
   "metadata": {},
   "source": [
    "## Data Collection\n",
    "## Identify the data Sources\n",
    "- Health Data Portels - WHO, world-Bank,Nepal Ministery of Health\n",
    "- Reasearch Paper- Google scholar\n",
    "- public Dataset - kaggle, Data.gov, open Data Nepal\n",
    "- Hospital and Clinics\n",
    "- "
   ]
  },
  {
   "cell_type": "markdown",
   "metadata": {},
   "source": [
    "# Referance \n",
    "- https://www.who.int/news-room/fact-sheets/detail/chronic-obstructive-pulmonary-disease-(copd)\n",
    "- https://www.worldbank.org/en/search?q=chornic+obstractive+pulmonary+diesases\n",
    "- https://www.dovepress.com/"
   ]
  }
 ],
 "metadata": {
  "kernelspec": {
   "display_name": "Python 3",
   "language": "python",
   "name": "python3"
  },
  "language_info": {
   "name": "python",
   "version": "3.11.1"
  }
 },
 "nbformat": 4,
 "nbformat_minor": 2
}
